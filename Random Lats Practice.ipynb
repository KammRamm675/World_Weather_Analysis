{
 "cells": [
  {
   "cell_type": "code",
   "execution_count": 1,
   "id": "e56a0be6",
   "metadata": {},
   "outputs": [],
   "source": [
    "# import random module.\n",
    "import random"
   ]
  },
  {
   "cell_type": "code",
   "execution_count": 5,
   "id": "6c0f42f2",
   "metadata": {},
   "outputs": [
    {
     "data": {
      "text/plain": [
       "-73"
      ]
     },
     "execution_count": 5,
     "metadata": {},
     "output_type": "execute_result"
    }
   ],
   "source": [
    "random.randint(-90, 90)"
   ]
  },
  {
   "cell_type": "code",
   "execution_count": 8,
   "id": "b0a0f60e",
   "metadata": {},
   "outputs": [
    {
     "data": {
      "text/plain": [
       "-81.08753443273899"
      ]
     },
     "execution_count": 8,
     "metadata": {},
     "output_type": "execute_result"
    }
   ],
   "source": [
    "random_number = random.randint(-90, 89) + random.random()\n",
    "random_number"
   ]
  },
  {
   "cell_type": "code",
   "execution_count": 12,
   "id": "ed2725e4",
   "metadata": {},
   "outputs": [
    {
     "data": {
      "text/plain": [
       "[-22.44751317413446,\n",
       " -68.2516305557355,\n",
       " -67.99178622664373,\n",
       " -30.047491309945574,\n",
       " 15.69853491227029,\n",
       " 4.2266880756175285,\n",
       " 64.91856795423222,\n",
       " 15.747732916607557,\n",
       " 79.96745921628984,\n",
       " -55.482309422037645]"
      ]
     },
     "execution_count": 12,
     "metadata": {},
     "output_type": "execute_result"
    }
   ],
   "source": [
    "x = 1\n",
    "latitudes = []\n",
    "while x < 11:\n",
    "    random_lat = random.randint(-90, 89) + random.random()\n",
    "    latitudes.append(random_lat)\n",
    "    x += 1\n",
    "\n",
    "latitudes"
   ]
  },
  {
   "cell_type": "code",
   "execution_count": 14,
   "id": "2c8c87c7",
   "metadata": {},
   "outputs": [
    {
     "data": {
      "text/plain": [
       "21"
      ]
     },
     "execution_count": 14,
     "metadata": {},
     "output_type": "execute_result"
    }
   ],
   "source": [
    "random.randrange(-90, 90, step=1)"
   ]
  },
  {
   "cell_type": "code",
   "execution_count": 17,
   "id": "8ee552c2",
   "metadata": {},
   "outputs": [
    {
     "data": {
      "text/plain": [
       "-3"
      ]
     },
     "execution_count": 17,
     "metadata": {},
     "output_type": "execute_result"
    }
   ],
   "source": [
    "random.randrange(-90, 90, step=3)"
   ]
  },
  {
   "cell_type": "code",
   "execution_count": 19,
   "id": "2b77cd01",
   "metadata": {},
   "outputs": [
    {
     "data": {
      "text/plain": [
       "62.85223825480554"
      ]
     },
     "execution_count": 19,
     "metadata": {},
     "output_type": "execute_result"
    }
   ],
   "source": [
    "random.uniform(-90, 90)"
   ]
  },
  {
   "cell_type": "code",
   "execution_count": 20,
   "id": "493f4022",
   "metadata": {},
   "outputs": [],
   "source": [
    "# Import the NumPy module.\n",
    "import numpy as np"
   ]
  },
  {
   "cell_type": "code",
   "execution_count": 22,
   "id": "8f19e409",
   "metadata": {},
   "outputs": [
    {
     "data": {
      "text/plain": [
       "-67.92469127544301"
      ]
     },
     "execution_count": 22,
     "metadata": {},
     "output_type": "execute_result"
    }
   ],
   "source": [
    "np.random.uniform(-90.000, 90.000)"
   ]
  },
  {
   "cell_type": "code",
   "execution_count": 24,
   "id": "617d09e8",
   "metadata": {},
   "outputs": [
    {
     "data": {
      "text/plain": [
       "array([ 39.73138482,  19.95595957, -24.45618578,  86.48098611,\n",
       "       -62.17180199, -17.15007509, -37.00914731,  37.87382003,\n",
       "        30.96564501,  36.76302149, -46.1051127 , -63.69181071,\n",
       "       -43.96972875,  53.33023028,   4.62065268, -62.09117867,\n",
       "       -76.38484098,  89.77940841, -13.92880502,  -4.33752147,\n",
       "       -38.15053244, -68.99648366,  55.91664962,  35.35773779,\n",
       "         9.24689307,   8.87239026,  12.30633362,  81.02330418,\n",
       "       -47.02478781, -28.46016603, -76.70451414,  -6.44329906,\n",
       "       -78.92611233,  55.31891426, -33.97769011,  58.37112404,\n",
       "        50.72823001, -72.51930041,  10.15332602,  25.69005408,\n",
       "        74.80761521,  58.95454878,  48.89431117,  25.9663603 ,\n",
       "        79.85804499, -13.47991798,   5.28248386, -26.47973015,\n",
       "       -59.32203933,  37.17015836])"
      ]
     },
     "execution_count": 24,
     "metadata": {},
     "output_type": "execute_result"
    }
   ],
   "source": [
    "np.random.uniform(-90.000, 90.000, size=50)"
   ]
  },
  {
   "cell_type": "code",
   "execution_count": 25,
   "id": "97a21fde",
   "metadata": {},
   "outputs": [],
   "source": [
    "# Import timeit.\n",
    "import timeit"
   ]
  },
  {
   "cell_type": "code",
   "execution_count": 29,
   "id": "9957ff72",
   "metadata": {},
   "outputs": [
    {
     "name": "stdout",
     "output_type": "stream",
     "text": [
      "9.08 µs ± 38.1 ns per loop (mean ± std. dev. of 7 runs, 100000 loops each)\n"
     ]
    }
   ],
   "source": [
    "%timeit np.random.uniform(-90.000, 90.000, size=1500)\n"
   ]
  },
  {
   "cell_type": "code",
   "execution_count": 30,
   "id": "b7bd1dc6",
   "metadata": {},
   "outputs": [
    {
     "name": "stdout",
     "output_type": "stream",
     "text": [
      "897 µs ± 8.89 µs per loop (mean ± std. dev. of 7 runs, 1000 loops each)\n"
     ]
    }
   ],
   "source": [
    "def latitudes(size):\n",
    "    latitudes = []\n",
    "    x = 0\n",
    "    while x < (size):\n",
    "        random_lat = random.randint(-90, 90) + random.random()\n",
    "        latitudes.append(random_lat)\n",
    "        x += 1\n",
    "    return latitudes\n",
    "# Call the function with 1500.\n",
    "%timeit latitudes(1500)"
   ]
  },
  {
   "cell_type": "code",
   "execution_count": 31,
   "id": "d4c993c6",
   "metadata": {},
   "outputs": [
    {
     "data": {
      "text/plain": [
       "array([-64.32306248,  81.96734768, -78.81857028, ..., -76.59109885,\n",
       "        31.81573928, -51.85286116])"
      ]
     },
     "execution_count": 31,
     "metadata": {},
     "output_type": "execute_result"
    }
   ],
   "source": [
    "np.random.uniform(-90.000, 90.000, size=1500)"
   ]
  },
  {
   "cell_type": "code",
   "execution_count": null,
   "id": "e47fb123",
   "metadata": {},
   "outputs": [],
   "source": []
  }
 ],
 "metadata": {
  "kernelspec": {
   "display_name": "PythonData",
   "language": "python",
   "name": "pythondata"
  },
  "language_info": {
   "codemirror_mode": {
    "name": "ipython",
    "version": 3
   },
   "file_extension": ".py",
   "mimetype": "text/x-python",
   "name": "python",
   "nbconvert_exporter": "python",
   "pygments_lexer": "ipython3",
   "version": "3.9.7"
  }
 },
 "nbformat": 4,
 "nbformat_minor": 5
}
